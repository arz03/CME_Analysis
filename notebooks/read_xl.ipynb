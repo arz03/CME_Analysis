{
 "cells": [
  {
   "cell_type": "code",
   "execution_count": 1,
   "id": "df8a93aa",
   "metadata": {},
   "outputs": [],
   "source": [
    "import pandas as pd\n",
    "import numpy as np"
   ]
  },
  {
   "cell_type": "code",
   "execution_count": null,
   "id": "dab36858",
   "metadata": {},
   "outputs": [
    {
     "name": "stdout",
     "output_type": "stream",
     "text": [
      "                    ID   SC Quality  PA-fit SSE speed SSE Phi SSE HEEQ Long  \\\n",
      "0                  NaN  NaN     NaN     NaN   [kms-1]   [deg]         [deg]   \n",
      "1  HCME_A__20250531_02    A    good    80.0       728      64           -27   \n",
      "2  HCME_A__20250531_01    A    good    70.0      1715      49           -11   \n",
      "3  HCME_A__20250530_01    A    good   110.0       663      32             5   \n",
      "4  HCME_A__20250527_01    A    fair    75.0       546      53           -16   \n",
      "\n",
      "  SSE HEEQ Lat SSE Carr Long           SSE Launch  \n",
      "0        [deg]         [deg]                [UTC]  \n",
      "1           10           223  2025-05-31 13:42:00  \n",
      "2           17           247  2025-05-31 00:08:00  \n",
      "3           -7           271  2025-05-30 08:45:00  \n",
      "4           14           291  2025-05-27 06:19:00  \n"
     ]
    }
   ],
   "source": [
    "helcats_xls = pd.ExcelFile(\"../dataset/catalogue/HelCats.xlsx\")\n",
    "helcats_df = pd.read_excel(helcats_xls, sheet_name=\"HelCats\")\n",
    "print(helcats_df.head())"
   ]
  },
  {
   "cell_type": "code",
   "execution_count": null,
   "id": "45763f8b",
   "metadata": {},
   "outputs": [
    {
     "name": "stdout",
     "output_type": "stream",
     "text": [
      "   First C2 Appearance Unnamed: 1 Central      Angular        Linear  \\\n",
      "0       Date Time [UT]        NaN      PA  Width [deg]  Speed [km/s]   \n",
      "1                  NaN        NaN   [deg]          NaN           NaN   \n",
      "2  2025-01-22 00:00:00   11:24:05    Halo          360           421   \n",
      "3  2025-01-24 00:00:00   12:00:05    Halo          360           766   \n",
      "4  2025-02-02 00:00:00   05:48:05    Halo          360          1143   \n",
      "\n",
      "   2nd-order Speed at final height [km/s]  2nd-order Speed at 20 Rs [km/s]  \\\n",
      "0                                     NaN                              NaN   \n",
      "1                                     NaN                              NaN   \n",
      "2                                   399.0                            358.0   \n",
      "3                                   920.0                            837.0   \n",
      "4                                   706.0                           1015.0   \n",
      "\n",
      "    Accel    Mass Kinetic  MPA [deg]     Movies, plots, & links Remarks  \n",
      "0  [m/s2]  [gram]  Energy        NaN                        NaN     NaN  \n",
      "1     NaN     NaN   [erg]        NaN                        NaN     NaN  \n",
      "2    -2.8    ----    ----      208.0  C2 C3 PHTX DST Java Movie     NaN  \n",
      "3    12.7    ----    ----      124.0  C2 C3 PHTX DST Java Movie     NaN  \n",
      "4   -59.1    ----    ----      165.0  C2 C3 PHTX DST Java Movie     NaN  \n",
      "Index(['First C2 Appearance', 'Unnamed: 1', 'Central', 'Angular', 'Linear',\n",
      "       '2nd-order Speed at final height [km/s]',\n",
      "       '2nd-order Speed at 20 Rs [km/s]', 'Accel', 'Mass', 'Kinetic',\n",
      "       'MPA [deg]', 'Movies, plots, & links', 'Remarks'],\n",
      "      dtype='object')\n"
     ]
    }
   ],
   "source": [
    "Soho_xls = pd.ExcelFile(\"../dataset/catalogue/Soho.xlsx\")\n",
    "soho_df = pd.read_excel(Soho_xls, sheet_name=\"Soho\")\n",
    "print(soho_df.head())\n",
    "print(soho_df.columns)"
   ]
  },
  {
   "cell_type": "code",
   "execution_count": null,
   "id": "3e2a8a98",
   "metadata": {},
   "outputs": [
    {
     "name": "stdout",
     "output_type": "stream",
     "text": [
      "  Disturbance Y/M/D (UT)  ICME Plasma (UT)        Unnamed: 2 Qualilty  \\\n",
      "0                     NaN       Field Start       Field  End      NaN   \n",
      "1                     NaN               NaN              NaN      NaN   \n",
      "2         2024/01/03 1510   2024/01/03 2100  2024/01/04 1000        3   \n",
      "3         2024/01/23 2300   2024/01/23 2300  2024/01/25 0600        2   \n",
      "4         2024/01/26 2000   2024/01/26 2300  2024/01/28 1600        2   \n",
      "\n",
      "   dV (km/s)\\t\\t  V_ICME (km/s)   V_max (km/s)\\t  B (nT)   MC?  Dst (nT)\\t  \\\n",
      "0            NaN             NaN             NaN      NaN   NaN        NaN   \n",
      "1            NaN             NaN             NaN      NaN   NaN        NaN   \n",
      "2           50.0           450.0           480.0      7.0   1.0      -22 P   \n",
      "3           20.0           440.0           470.0      4.0   0.0      -15 P   \n",
      "4           60.0           380.0           470.0      7.0   0.0      -10 P   \n",
      "\n",
      "  V_transit (km/s)                              LASCO CME Y/M/D (UT)   \n",
      "0              NaN                                                NaN  \n",
      "1              NaN                                                NaN  \n",
      "2              540                                  2023/12/31 0948 D  \n",
      "3              ...                                                ...  \n",
      "4          400-490  2024/01/22 1048 HD, 2236 D, 2024/01/23 0348 D,...  \n"
     ]
    }
   ],
   "source": [
    "RnC_xls = pd.ExcelFile(\"../dataset/catalogue/RnC.xlsx\")\n",
    "rnc_df = pd.read_excel(RnC_xls, sheet_name=\"RnC\")\n",
    "print(rnc_df.head())"
   ]
  }
 ],
 "metadata": {
  "kernelspec": {
   "display_name": "venv",
   "language": "python",
   "name": "python3"
  },
  "language_info": {
   "codemirror_mode": {
    "name": "ipython",
    "version": 3
   },
   "file_extension": ".py",
   "mimetype": "text/x-python",
   "name": "python",
   "nbconvert_exporter": "python",
   "pygments_lexer": "ipython3",
   "version": "3.12.9"
  }
 },
 "nbformat": 4,
 "nbformat_minor": 5
}
